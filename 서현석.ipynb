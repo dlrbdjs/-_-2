{
  "nbformat": 4,
  "nbformat_minor": 0,
  "metadata": {
    "colab": {
      "provenance": [],
      "mount_file_id": "1yKBnf9CDDYxr3X0j44Ilkk-DbLnV41BI",
      "authorship_tag": "ABX9TyMW3F9Fc3wveZtoWLEnWScW",
      "include_colab_link": true
    },
    "kernelspec": {
      "name": "python3",
      "display_name": "Python 3"
    },
    "language_info": {
      "name": "python"
    }
  },
  "cells": [
    {
      "cell_type": "markdown",
      "metadata": {
        "id": "view-in-github",
        "colab_type": "text"
      },
      "source": [
        "<a href=\"https://colab.research.google.com/github/dlrbdjs/Hybrid_Sam_E_SoSa_RioReibi/blob/main/%EC%84%9C%ED%98%84%EC%84%9D.ipynb\" target=\"_parent\"><img src=\"https://colab.research.google.com/assets/colab-badge.svg\" alt=\"Open In Colab\"/></a>"
      ]
    },
    {
      "cell_type": "code",
      "execution_count": 4,
      "metadata": {
        "colab": {
          "base_uri": "https://localhost:8080/"
        },
        "id": "002F1eSqRvZF",
        "outputId": "72754d45-3d12-4c6d-adf5-e694a0c646d6"
      },
      "outputs": [
        {
          "output_type": "stream",
          "name": "stdout",
          "text": [
            "Hello, world\n",
            "정수: 3, 03, 003, 0003, 00003\n",
            "실수: 256, 256.1, 256.12\n",
            "문자열: [Hello, world]\n"
          ]
        }
      ],
      "source": [
        "print(\"Hello, world\")\n",
        "\n",
        "#integer\n",
        "x = 3\n",
        "print(\"정수: %01s, %02d, %03d, %04d, %05d\" % (x,x,x,x,x))\n",
        "\n",
        "#float\n",
        "x = 256.123\n",
        "print(\"실수: %.0f, %.1f, %.2f\" % (x,x,x))\n",
        "\n",
        "#string\n",
        "x = \"Hello, world\"\n",
        "print (\"문자열: [%s]\" % (x))\n"
      ]
    },
    {
      "cell_type": "code",
      "source": [],
      "metadata": {
        "id": "ahzuF1rIeAf_"
      },
      "execution_count": null,
      "outputs": []
    },
    {
      "cell_type": "code",
      "source": [
        "contents =  [\"Regression\", \"Classification\", \"SYM\", \"Clustering\", \"Dimension reduction\",\n",
        "             \"NN\", \"CNN\", \"AE\", \"GAN\", \"RNN\"]\n",
        "for con in contents:\n",
        "  if con in  [\"Regression\", \"Classification\", \"SYM\", \"Clustering\", \"Dimension reduction\"]:\n",
        "    print (\"%s 은 기계학습 내용입니다.\" %con)\n",
        "  elif con in  [\"CNN\"]:\n",
        "    print (\"%s 은 convolutional neural network 내용입니다.\" %con)\n",
        "  else:\n",
        "    print (\"%s 은 심층학습 내용입니다.\" %con)"
      ],
      "metadata": {
        "colab": {
          "base_uri": "https://localhost:8080/"
        },
        "id": "Rn8KYPt0Y3HK",
        "outputId": "fd982a57-964c-4194-9fc4-90442c187ee3"
      },
      "execution_count": 6,
      "outputs": [
        {
          "output_type": "stream",
          "name": "stdout",
          "text": [
            "Regression 은 기계학습 내용입니다.\n",
            "Classification 은 기계학습 내용입니다.\n",
            "SYM 은 기계학습 내용입니다.\n",
            "Clustering 은 기계학습 내용입니다.\n",
            "Dimension reduction 은 기계학습 내용입니다.\n",
            "NN 은 심층학습 내용입니다.\n",
            "CNN 은 convolutional neural network 내용입니다.\n",
            "AE 은 심층학습 내용입니다.\n",
            "GAN 은 심층학습 내용입니다.\n",
            "RNN 은 심층학습 내용입니다.\n"
          ]
        }
      ]
    },
    {
      "cell_type": "code",
      "source": [
        "for (i, con) in enumerate(contents):\n",
        "  print (\"[%d/%d]: %s\" % (i, len(contents), con))"
      ],
      "metadata": {
        "colab": {
          "base_uri": "https://localhost:8080/"
        },
        "id": "GJLoHNngacLN",
        "outputId": "daae905d-fbed-46f2-a667-49df3f75b9b5"
      },
      "execution_count": 13,
      "outputs": [
        {
          "output_type": "stream",
          "name": "stdout",
          "text": [
            "[0/10]: Regression\n",
            "[1/10]: Classification\n",
            "[2/10]: SYM\n",
            "[3/10]: Clustering\n",
            "[4/10]: Dimension reduction\n",
            "[5/10]: NN\n",
            "[6/10]: CNN\n",
            "[7/10]: AE\n",
            "[8/10]: GAN\n",
            "[9/10]: RNN\n"
          ]
        }
      ]
    },
    {
      "cell_type": "code",
      "source": [
        "def sum(a, b):\n",
        "  return a+b\n",
        "\n",
        "x = 10.0\n",
        "y = 20.0\n",
        "print(\"%.1f + %.1f = %.1f\" %(x, y, sum(x,y)))"
      ],
      "metadata": {
        "colab": {
          "base_uri": "https://localhost:8080/"
        },
        "id": "Gh2HVM6tbBGE",
        "outputId": "64c6e914-436e-4f6f-9386-c8d175ecd293"
      },
      "execution_count": 14,
      "outputs": [
        {
          "output_type": "stream",
          "name": "stdout",
          "text": [
            "10.0 + 20.0 = 30.0\n"
          ]
        }
      ]
    },
    {
      "cell_type": "code",
      "source": [
        "a = []\n",
        "b = []\n",
        "c = [\"Hello\", \",\",\"world\"]\n",
        "d = [1,2,3,\"x\",\"y,\",\"z\"]\n",
        "x = []\n",
        "print (x)\n",
        "\n",
        "x.append('a')\n",
        "print (x)\n",
        "\n",
        "x.append(123)\n",
        "print (x)\n",
        "x.append([\"a\",\"b\"])\n",
        "print (x)"
      ],
      "metadata": {
        "colab": {
          "base_uri": "https://localhost:8080/"
        },
        "id": "MUjrrYMEbBTU",
        "outputId": "9e1c7d7e-67c6-48d1-d1b2-3c2f134b8a0c"
      },
      "execution_count": 16,
      "outputs": [
        {
          "output_type": "stream",
          "name": "stdout",
          "text": [
            "[]\n",
            "['a']\n",
            "['a', 123]\n",
            "['a', 123, ['a', 'b']]\n"
          ]
        }
      ]
    },
    {
      "cell_type": "code",
      "source": [
        "dic = dict()\n",
        "dic[\"name\"] = \"Daesik\"\n",
        "dic[\"town\"] = \"Yongin city\"\n",
        "dic[\"job\"] = \"Assistant professor\"\n",
        "print (dic)"
      ],
      "metadata": {
        "colab": {
          "base_uri": "https://localhost:8080/"
        },
        "id": "QQkFncuocOtF",
        "outputId": "b4dbecc1-6ebd-4f82-a0c5-227184933015"
      },
      "execution_count": 17,
      "outputs": [
        {
          "output_type": "stream",
          "name": "stdout",
          "text": [
            "{'name': 'Daesik', 'town': 'Yongin city', 'job': 'Assistant professor'}\n"
          ]
        }
      ]
    },
    {
      "cell_type": "code",
      "source": [
        "class Student :\n",
        "  #생성자\n",
        "  def __init__(self, name):\n",
        "    self.name = name\n",
        "    #메써드\n",
        "  def study(self, hard=False):\n",
        "    if hard:\n",
        "      print(\"%s 학생은 열심히 공부합니다.\" %self.name)\n",
        "    else:\n",
        "      print(\"%s 학생은 공부합니다.\" %self.name)\n",
        "\n",
        "s = Student('Daesik')\n",
        "s.study()\n",
        "s.study(hard = True)"
      ],
      "metadata": {
        "colab": {
          "base_uri": "https://localhost:8080/"
        },
        "id": "VavQfusVci8v",
        "outputId": "3141f4a9-5efe-49c7-edf9-a8b2a9a6b7c7"
      },
      "execution_count": 19,
      "outputs": [
        {
          "output_type": "stream",
          "name": "stdout",
          "text": [
            "Daesik 학생은 공부합니다.\n",
            "Daesik 학생은 열심히 공부합니다.\n"
          ]
        }
      ]
    },
    {
      "cell_type": "code",
      "source": [],
      "metadata": {
        "id": "d-_Ups4hdZYu"
      },
      "execution_count": null,
      "outputs": []
    }
  ]
}