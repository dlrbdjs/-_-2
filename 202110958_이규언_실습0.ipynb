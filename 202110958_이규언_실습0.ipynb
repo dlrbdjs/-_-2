{
  "nbformat": 4,
  "nbformat_minor": 0,
  "metadata": {
    "colab": {
      "provenance": [],
      "mount_file_id": "1BlBy0nJla5M0TlxipASMHVaPeEnbdzJw",
      "authorship_tag": "ABX9TyMW6nZrr2D/o1QsweX4Nkpo",
      "include_colab_link": true
    },
    "kernelspec": {
      "name": "python3",
      "display_name": "Python 3"
    },
    "language_info": {
      "name": "python"
    }
  },
  "cells": [
    {
      "cell_type": "markdown",
      "metadata": {
        "id": "view-in-github",
        "colab_type": "text"
      },
      "source": [
        "<a href=\"https://colab.research.google.com/github/dlrbdjs/Hybrid_Sam_E_SoSa_RioReibi/blob/gyueon/202110958_%EC%9D%B4%EA%B7%9C%EC%96%B8_%EC%8B%A4%EC%8A%B50.ipynb\" target=\"_parent\"><img src=\"https://colab.research.google.com/assets/colab-badge.svg\" alt=\"Open In Colab\"/></a>"
      ]
    },
    {
      "cell_type": "markdown",
      "source": [
        "파이썬 기초"
      ],
      "metadata": {
        "id": "L2qpnpPjy4_p"
      }
    },
    {
      "cell_type": "markdown",
      "source": [
        "프린트"
      ],
      "metadata": {
        "id": "aagBzfbjzBSi"
      }
    },
    {
      "cell_type": "code",
      "execution_count": null,
      "metadata": {
        "id": "BU_A1LcVWFJH"
      },
      "outputs": [],
      "source": [
        "print(\"Hello, world\")\n",
        "\n",
        "# integer\n",
        "x = 3\n",
        "print(\"정수 : %01d, %02d, %03d, %04d, %05d\" % (x, x, x, x, x))\n",
        "\n",
        "#float\n",
        "x = 256.256\n",
        "print(\"실수 : %.0f, %.1f, %.2f\" % (x, x, x))\n",
        "\n",
        "#string\n",
        "x = \"Hello, world\"\n",
        "print(\"문자열 : [%s]\" % (x))"
      ]
    },
    {
      "cell_type": "markdown",
      "source": [
        "반복문, 조건문"
      ],
      "metadata": {
        "id": "4P7-CaRnzEcv"
      }
    },
    {
      "cell_type": "code",
      "source": [
        "contents = [\"Regression\", \"Classification\", \"SVM\", \"Clustering\", \"Dimension reduction\", \"NN\", \"CNN\", \"AE\", \"GAN\", \"RNN\"]\n",
        "for con in contents:\n",
        "  if con in [\"Regression\", \"Classification\", \"SVM\", \"Clustering\", \"Dimension reduction\"]:\n",
        "    print(\"%s 은(는) 기계학습 내용입니다.\" %con)\n",
        "  elif con in [\"CNN\"]:\n",
        "    print(\"%s 은(는) convolutional neural network 내용입니다.\" %con)\n",
        "  else:\n",
        "    print(\"%s 은(는) 심층학습 내용입니다.\" %con)"
      ],
      "metadata": {
        "id": "CuS4bpCEYe6r"
      },
      "execution_count": null,
      "outputs": []
    },
    {
      "cell_type": "markdown",
      "source": [
        "반복문과 인덱스"
      ],
      "metadata": {
        "id": "gsHxsfaOzNJu"
      }
    },
    {
      "cell_type": "code",
      "source": [
        "for (i, con) in enumerate(contents):\n",
        "  print(\"[%d/%d]: %s\" %(i, len(contents), con))"
      ],
      "metadata": {
        "id": "6KfriiscZWxD"
      },
      "execution_count": null,
      "outputs": []
    },
    {
      "cell_type": "markdown",
      "source": [
        "함수"
      ],
      "metadata": {
        "id": "yyWPqnkHzSvK"
      }
    },
    {
      "cell_type": "code",
      "source": [
        "def sum(a, b):\n",
        "  return a+b\n",
        "\n",
        "x = 10.0\n",
        "y = 20.0\n",
        "print(\"%.1f + %.1f = %.1f\" %(x, y, sum(x, y)))"
      ],
      "metadata": {
        "id": "caat97TXaAPB"
      },
      "execution_count": null,
      "outputs": []
    },
    {
      "cell_type": "markdown",
      "source": [
        "리스트"
      ],
      "metadata": {
        "id": "yTlqvTB-zT0T"
      }
    },
    {
      "cell_type": "code",
      "source": [
        "a = []\n",
        "b = [1, 2, 3]\n",
        "c = [\"Hello\", \",\", \"world\"]\n",
        "d = [1, 2, 3, \"x\", \"y\", \"z\"]\n",
        "x = []\n",
        "print(x)\n",
        "\n",
        "x.append('a')\n",
        "print(x)\n",
        "\n",
        "x.append(123)\n",
        "print(x)\n",
        "\n",
        "x.append([\"a\", \"b\"])\n",
        "print(x)"
      ],
      "metadata": {
        "id": "X87ZZfAyaYfD"
      },
      "execution_count": null,
      "outputs": []
    },
    {
      "cell_type": "markdown",
      "source": [
        "딕셔너리"
      ],
      "metadata": {
        "id": "AgUGK_AHzVyP"
      }
    },
    {
      "cell_type": "code",
      "source": [
        "dic = dict()\n",
        "dic[\"name\"] = \"Daesik\"\n",
        "dic[\"town\"] = \"Yongin city\"\n",
        "dic[\"job\"] = \"assistant professor\"\n",
        "print(dic)"
      ],
      "metadata": {
        "colab": {
          "base_uri": "https://localhost:8080/"
        },
        "id": "sWQIfNKuawmh",
        "outputId": "df53511e-6f30-4f3d-985c-8f633738e46d"
      },
      "execution_count": null,
      "outputs": [
        {
          "output_type": "stream",
          "name": "stdout",
          "text": [
            "{'name': 'Daesik', 'town': 'Yongin city', 'job': 'assistant professor'}\n"
          ]
        }
      ]
    },
    {
      "cell_type": "markdown",
      "source": [
        "클래스"
      ],
      "metadata": {
        "id": "sXaDwD_KzXIQ"
      }
    },
    {
      "cell_type": "code",
      "source": [
        "class Student:\n",
        "  #생성자\n",
        "  def __init__(self, name):\n",
        "    self.name = name\n",
        "  #메써드\n",
        "  def study(self, hard=False):\n",
        "    if hard:\n",
        "      print(\"%s 학생은 열심히 공부합니다.\" %self.name)\n",
        "    else:\n",
        "      print(\"%s 학생은 공부합니다.\" %self.name)\n",
        "s = Student('Daesik')\n",
        "s.study()\n",
        "s.study(hard=True)"
      ],
      "metadata": {
        "id": "oOLZRQ-xa9cA"
      },
      "execution_count": null,
      "outputs": []
    },
    {
      "cell_type": "markdown",
      "source": [
        "라이브러리(패키지)로드"
      ],
      "metadata": {
        "id": "pGL4F3JlzZOS"
      }
    },
    {
      "cell_type": "code",
      "source": [
        "import numpy as np"
      ],
      "metadata": {
        "id": "NsQf2vYozdja"
      },
      "execution_count": null,
      "outputs": []
    },
    {
      "cell_type": "markdown",
      "source": [
        "벡터, 행렬연산, 그래프 그리기"
      ],
      "metadata": {
        "id": "of38kj1Pze4o"
      }
    },
    {
      "cell_type": "markdown",
      "source": [
        "프린트"
      ],
      "metadata": {
        "id": "tjzHzuj0ziAb"
      }
    },
    {
      "cell_type": "code",
      "source": [
        "def print_val(x):\n",
        "  print(\"Type:\", type(x))\n",
        "  print(\"Shape\", x.shape)\n",
        "  print(\"값:\\n\", x)\n",
        "  print(\" \")\n"
      ],
      "metadata": {
        "id": "JiJSZOf-yAz3"
      },
      "execution_count": null,
      "outputs": []
    },
    {
      "cell_type": "markdown",
      "source": [
        "rank 1 np array"
      ],
      "metadata": {
        "id": "-2J28PepzlJ7"
      }
    },
    {
      "cell_type": "code",
      "source": [
        "x = np.array([1, 2, 3])\n",
        "print_val(x)\n",
        "\n",
        "x[0] = 5\n",
        "print_val(x)"
      ],
      "metadata": {
        "id": "h-Vi4mgJyBwP"
      },
      "execution_count": null,
      "outputs": []
    },
    {
      "cell_type": "markdown",
      "source": [
        "랜덤 행렬(uniform: 0~1 사이 모든 값들이 나올 확률이 같음"
      ],
      "metadata": {
        "id": "-o9kjIfHzwER"
      }
    },
    {
      "cell_type": "code",
      "source": [
        "a = np.random.random((4, 4))\n",
        "print_val(a)\n"
      ],
      "metadata": {
        "id": "Tn1lNwAFyByq"
      },
      "execution_count": null,
      "outputs": []
    },
    {
      "cell_type": "markdown",
      "source": [
        "랜덤 행렬(Gaussian: 0을 평균으로 하는 가우시안 분포를 따르는 랜덤값)"
      ],
      "metadata": {
        "id": "f5ALw3ljz2St"
      }
    },
    {
      "cell_type": "code",
      "source": [
        "a = np.random.randn(4, 4)\n",
        "print_val(a)"
      ],
      "metadata": {
        "id": "upkc8deY0A4A"
      },
      "execution_count": null,
      "outputs": []
    },
    {
      "cell_type": "markdown",
      "source": [
        "np arrary indexing"
      ],
      "metadata": {
        "id": "9kLshiE80D3K"
      }
    },
    {
      "cell_type": "code",
      "source": [
        "a = np.array([[1, 2, 3, 4], [5, 6, 7, 8], [9, 10, 11, 12]])\n",
        "print_val(a)\n",
        "\n",
        "b = a[:2, 1:3] #행 0~1, 열 1~2\n",
        "print_val(b)"
      ],
      "metadata": {
        "id": "ObU57G_0yB1x"
      },
      "execution_count": null,
      "outputs": []
    },
    {
      "cell_type": "markdown",
      "source": [
        "행렬의 n번째 행 얻기"
      ],
      "metadata": {
        "id": "MkZ1fBRoz9hU"
      }
    },
    {
      "cell_type": "code",
      "source": [
        "row1 = a[1, :] # 1번째 행\n",
        "print_val(row1)"
      ],
      "metadata": {
        "id": "R8G81m00yB31"
      },
      "execution_count": null,
      "outputs": []
    },
    {
      "cell_type": "markdown",
      "source": [
        "행렬의 원소별 연산"
      ],
      "metadata": {
        "id": "NIUz18yg0Mjw"
      }
    },
    {
      "cell_type": "code",
      "source": [
        "m1 = np.array([[1, 2], [3, 4]], dtype = np.float64)\n",
        "m2 = np.array([[5, 6], [7, 8]], dtype = np.float64)"
      ],
      "metadata": {
        "id": "l_gTF38PyB6F"
      },
      "execution_count": null,
      "outputs": []
    },
    {
      "cell_type": "code",
      "source": [
        "#elementwise sum\n",
        "print_val(m1 + m2)\n",
        "print_val(np.add(m1, m2))"
      ],
      "metadata": {
        "id": "jsbfGiKJ0Ssi"
      },
      "execution_count": null,
      "outputs": []
    },
    {
      "cell_type": "code",
      "source": [
        "#elementwise difference\n",
        "print_val(m1 - m2)\n",
        "print_val(np.subtract(m1, m2))"
      ],
      "metadata": {
        "id": "GIcdjsiMyB8b"
      },
      "execution_count": null,
      "outputs": []
    },
    {
      "cell_type": "code",
      "source": [
        "#elementwise product\n",
        "print_val(m1 * m2)\n",
        "print_val(np.multiply(m1, m2))"
      ],
      "metadata": {
        "id": "luwmidJzyB-2"
      },
      "execution_count": null,
      "outputs": []
    },
    {
      "cell_type": "code",
      "source": [
        "#elementwise division\n",
        "print_val(m1 / m2)\n",
        "print_val(np.divide(m1, m2))"
      ],
      "metadata": {
        "id": "it2Qf2-spTGK"
      },
      "execution_count": null,
      "outputs": []
    },
    {
      "cell_type": "code",
      "source": [
        "#elementwise square root\n",
        "print_val(np.sqrt(m1))"
      ],
      "metadata": {
        "id": "e_RohroZpZvU"
      },
      "execution_count": null,
      "outputs": []
    },
    {
      "cell_type": "markdown",
      "source": [
        "행렬 연산"
      ],
      "metadata": {
        "id": "H3ymZYWI0gay"
      }
    },
    {
      "cell_type": "code",
      "source": [
        "m1 = np.array([[1, 2], [3, 4]]) # (2, 2)\n",
        "m2 = np.array([[5, 6], [7, 8]]) # (2, 2)\n",
        "v1 = np.array([9, 10]) # (2, 1) #[[9, 10]]  (1, 2)\n",
        "v2 = np.array([11, 12]) #(2, 1)\n",
        "\n",
        "print_val(m1)\n",
        "print_val(m2)\n",
        "print_val(v1)\n",
        "print_val(v2)"
      ],
      "metadata": {
        "id": "V6CfbICVpfbZ"
      },
      "execution_count": null,
      "outputs": []
    },
    {
      "cell_type": "markdown",
      "source": [
        "벡터-벡터 연산"
      ],
      "metadata": {
        "id": "qZFD965DqCdD"
      }
    },
    {
      "cell_type": "code",
      "source": [
        "print_val(v1.dot(v2))\n",
        "print_val(np.dot(v1, v2))"
      ],
      "metadata": {
        "id": "VP0PAj6qqBde"
      },
      "execution_count": null,
      "outputs": []
    },
    {
      "cell_type": "markdown",
      "source": [
        "벡터-행렬 연산"
      ],
      "metadata": {
        "id": "kEWSsvEaqK5g"
      }
    },
    {
      "cell_type": "code",
      "source": [
        "print_val(m1.dot(v1))\n",
        "print_val(np.dot(m1, v1))"
      ],
      "metadata": {
        "id": "72doZO2tqNH2"
      },
      "execution_count": null,
      "outputs": []
    },
    {
      "cell_type": "markdown",
      "source": [
        "행렬-행렬 연산"
      ],
      "metadata": {
        "id": "QxGTb8T9qTfB"
      }
    },
    {
      "cell_type": "code",
      "source": [
        "print_val(m1.dot(m2))\n",
        "print_val(np.dot(m1, m2))"
      ],
      "metadata": {
        "id": "NJBpCsmNqVHv"
      },
      "execution_count": null,
      "outputs": []
    },
    {
      "cell_type": "markdown",
      "source": [
        "전치 행렬 (transpose)"
      ],
      "metadata": {
        "id": "mdfRRrjIqavC"
      }
    },
    {
      "cell_type": "code",
      "source": [
        "print_val(m1)\n",
        "print_val(m1.T)"
      ],
      "metadata": {
        "id": "Wot_FeJxqdxr"
      },
      "execution_count": null,
      "outputs": []
    },
    {
      "cell_type": "markdown",
      "source": [
        "합"
      ],
      "metadata": {
        "id": "-KUtZYqAqhv1"
      }
    },
    {
      "cell_type": "code",
      "source": [
        "print_val(np.sum(m1))   # 행렬의 모든 원소의 합\n",
        "print_val(np.sum(m1, axis = 0))     # shape[0] (행)을 압축시키자. (2,2) -> (2, )\n",
        "print_val(np.sum(m1, axis = 1))     # shape[1] (열)을 압축시키자. (2,2) -> (2, )"
      ],
      "metadata": {
        "id": "p7TDJGysqm1V"
      },
      "execution_count": null,
      "outputs": []
    },
    {
      "cell_type": "code",
      "source": [
        "m1 = np.array([[1, 2, 3], [4, 5, 6]])\n",
        "print(m1)\n",
        "print(m1.shape)  # (2, 3)"
      ],
      "metadata": {
        "id": "3L8FBvKprXll"
      },
      "execution_count": null,
      "outputs": []
    },
    {
      "cell_type": "code",
      "source": [
        "print(np.sum(m1))\n",
        "print(np.sum(m1, axis = 0)) #shape[0] (행)을 압축시키자 (2, 3) -> (3, )\n",
        "print(np.sum(m1, axis = 1)) #shape[1] (열)을 압축시키자 (2, 3) -> (2, )"
      ],
      "metadata": {
        "id": "ClsRaPESrph4"
      },
      "execution_count": null,
      "outputs": []
    },
    {
      "cell_type": "markdown",
      "source": [
        "zeros-like"
      ],
      "metadata": {
        "id": "UYdfXp0zsB-3"
      }
    },
    {
      "cell_type": "code",
      "source": [
        "m1 = np.array([[1, 2, 3],\n",
        "               [4, 5, 6],\n",
        "               [7, 8, 9],\n",
        "               [10, 11, 12]])\n",
        "m2 = np.zeros_like(m1)  #m1과 같은 형태의 0으로 이루어진 np array\n",
        "print_val(m1)\n",
        "print_val(m2)"
      ],
      "metadata": {
        "id": "sm4FCwWBsEQK"
      },
      "execution_count": null,
      "outputs": []
    },
    {
      "cell_type": "markdown",
      "source": [
        "Matplot library"
      ],
      "metadata": {
        "id": "xu4GN7IYscTQ"
      }
    },
    {
      "cell_type": "code",
      "source": [
        "import matplotlib.pyplot as plt\n",
        "%matplotlib inline\n",
        "\n",
        "#sin 커브\n",
        "x = np.arange(0, 10, 0.1)   # 0 ~ 10 까지 0.1 간격의 숫자 배열\n",
        "y = np.sin(x)\n",
        "\n",
        "plt.plot(x, y)"
      ],
      "metadata": {
        "id": "bE4cNR9rsetz"
      },
      "execution_count": null,
      "outputs": []
    },
    {
      "cell_type": "markdown",
      "source": [
        "한 번에 두 개 그래프 그리기"
      ],
      "metadata": {
        "id": "cZBq-m6hs3MK"
      }
    },
    {
      "cell_type": "code",
      "source": [
        "y_sin = np.sin(x)\n",
        "y_cos = np.cos(x)\n",
        "\n",
        "plt.plot(x, y_sin)\n",
        "plt.plot(x, y_cos)\n",
        "plt.xlabel(\"x axis label\")\n",
        "plt.ylabel(\"y axis label\")\n",
        "plt.title(\"sin and cos\")\n",
        "plt.legend([\"sin\", \"cos\"])\n",
        "\n",
        "plt.show()"
      ],
      "metadata": {
        "id": "5I0RrwkWs5Vg"
      },
      "execution_count": null,
      "outputs": []
    },
    {
      "cell_type": "markdown",
      "source": [
        "Subplot"
      ],
      "metadata": {
        "id": "Eu8iq0SRteiS"
      }
    },
    {
      "cell_type": "code",
      "source": [
        "plt.subplot(2, 1, 1) # (2, 1) 형태 플랏의 첫 번째 자리에 그리겠다\n",
        "plt.plot(x, y_sin)\n",
        "plt.title('sin')\n",
        "\n",
        "plt.subplot(2, 1, 2)\n",
        "plt.plot(x, y_cos)\n",
        "plt.title('cos')\n",
        "\n",
        "plt.show()"
      ],
      "metadata": {
        "id": "I1KrgXeEtgQR"
      },
      "execution_count": null,
      "outputs": []
    }
  ]
}