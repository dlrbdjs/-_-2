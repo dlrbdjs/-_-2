{
  "nbformat": 4,
  "nbformat_minor": 0,
  "metadata": {
    "colab": {
      "provenance": [],
      "mount_file_id": "1BlBy0nJla5M0TlxipASMHVaPeEnbdzJw",
      "authorship_tag": "ABX9TyPJgYmqErv2dLzW+BqL0q9b",
      "include_colab_link": true
    },
    "kernelspec": {
      "name": "python3",
      "display_name": "Python 3"
    },
    "language_info": {
      "name": "python"
    }
  },
  "cells": [
    {
      "cell_type": "markdown",
      "metadata": {
        "id": "view-in-github",
        "colab_type": "text"
      },
      "source": [
        "<a href=\"https://colab.research.google.com/github/dlrbdjs/Hybrid_Sam_E_SoSa_RioReibi/blob/group/%EC%9D%B4%EA%B7%9C%EC%96%B8_%EC%8B%A4%EC%8A%B50.ipynb\" target=\"_parent\"><img src=\"https://colab.research.google.com/assets/colab-badge.svg\" alt=\"Open In Colab\"/></a>"
      ]
    },
    {
      "cell_type": "code",
      "execution_count": 2,
      "metadata": {
        "colab": {
          "base_uri": "https://localhost:8080/"
        },
        "id": "BU_A1LcVWFJH",
        "outputId": "c4899e91-2682-415a-a2ff-48f0610c9e08"
      },
      "outputs": [
        {
          "output_type": "stream",
          "name": "stdout",
          "text": [
            "Hello, world\n",
            "정수 : 3, 03, 003, 0003, 00003\n",
            "실수 : 256, 256.3, 256.26\n",
            "문자열 : [Hello, world]\n"
          ]
        }
      ],
      "source": [
        "print(\"Hello, world\")\n",
        "\n",
        "# integer\n",
        "x = 3\n",
        "print(\"정수 : %01d, %02d, %03d, %04d, %05d\" % (x, x, x, x, x))\n",
        "\n",
        "#float\n",
        "x = 256.256\n",
        "print(\"실수 : %.0f, %.1f, %.2f\" % (x, x, x))\n",
        "\n",
        "#string\n",
        "x = \"Hello, world\"\n",
        "print(\"문자열 : [%s]\" % (x))"
      ]
    },
    {
      "cell_type": "code",
      "source": [
        "contents = [\"Regression\", \"Classification\", \"SVM\", \"Clustering\", \"Dimension reduction\", \"NN\", \"CNN\", \"AE\", \"GAN\", \"RNN\"]\n",
        "for con in contents:\n",
        "  if con in [\"Regression\", \"Classification\", \"SVM\", \"Clustering\", \"Dimension reduction\"]:\n",
        "    print(\"%s 은(는) 기계학습 내용입니다.\" %con)\n",
        "  elif con in [\"CNN\"]:\n",
        "    print(\"%s 은(는) convolutional neural network 내용입니다.\" %con)\n",
        "  else:\n",
        "    print(\"%s 은(는) 심층학습 내용입니다.\" %con)"
      ],
      "metadata": {
        "colab": {
          "base_uri": "https://localhost:8080/"
        },
        "id": "CuS4bpCEYe6r",
        "outputId": "e2977198-f0db-4e23-b16d-be556540ba29"
      },
      "execution_count": 3,
      "outputs": [
        {
          "output_type": "stream",
          "name": "stdout",
          "text": [
            "Regression 은(는) 기계학습 내용입니다.\n",
            "Classification 은(는) 기계학습 내용입니다.\n",
            "SVM 은(는) 기계학습 내용입니다.\n",
            "Clustering 은(는) 기계학습 내용입니다.\n",
            "Dimension reduction 은(는) 기계학습 내용입니다.\n",
            "NN 은(는) 심층학습 내용입니다.\n",
            "CNN 은(는) convolutional neural network 내용입니다.\n",
            "AE 은(는) 심층학습 내용입니다.\n",
            "GAN 은(는) 심층학습 내용입니다.\n",
            "RNN 은(는) 심층학습 내용입니다.\n"
          ]
        }
      ]
    },
    {
      "cell_type": "code",
      "source": [
        "for (i, con) in enumerate(contents):\n",
        "  print(\"[%d/%d]: %s\" %(i, len(contents), con))"
      ],
      "metadata": {
        "colab": {
          "base_uri": "https://localhost:8080/"
        },
        "id": "6KfriiscZWxD",
        "outputId": "c70165ae-07b3-4f9a-e9f0-8101557c9310"
      },
      "execution_count": 4,
      "outputs": [
        {
          "output_type": "stream",
          "name": "stdout",
          "text": [
            "[0/10]: Regression\n",
            "[1/10]: Classification\n",
            "[2/10]: SVM\n",
            "[3/10]: Clustering\n",
            "[4/10]: Dimension reduction\n",
            "[5/10]: NN\n",
            "[6/10]: CNN\n",
            "[7/10]: AE\n",
            "[8/10]: GAN\n",
            "[9/10]: RNN\n"
          ]
        }
      ]
    },
    {
      "cell_type": "code",
      "source": [
        "def sum(a, b):\n",
        "  return a+b\n",
        "\n",
        "x = 10.0\n",
        "y = 20.0\n",
        "print(\"%.1f + %.1f = %.1f\" %(x, y, sum(x, y)))"
      ],
      "metadata": {
        "colab": {
          "base_uri": "https://localhost:8080/"
        },
        "id": "caat97TXaAPB",
        "outputId": "0e243a7a-b25b-49bc-a277-999e13298ac4"
      },
      "execution_count": 5,
      "outputs": [
        {
          "output_type": "stream",
          "name": "stdout",
          "text": [
            "10.0 + 20.0 = 30.0\n"
          ]
        }
      ]
    },
    {
      "cell_type": "code",
      "source": [
        "a = []\n",
        "b = [1, 2, 3]\n",
        "c = [\"Hello\", \",\", \"world\"]\n",
        "d = [1, 2, 3, \"x\", \"y\", \"z\"]\n",
        "x = []\n",
        "print(x)\n",
        "\n",
        "x.append('a')\n",
        "print(x)\n",
        "\n",
        "x.append(123)\n",
        "print(x)\n",
        "\n",
        "x.append([\"a\", \"b\"])\n",
        "print(x)"
      ],
      "metadata": {
        "colab": {
          "base_uri": "https://localhost:8080/"
        },
        "id": "X87ZZfAyaYfD",
        "outputId": "67515148-f6f1-496b-9b20-cb7d4a7d8384"
      },
      "execution_count": 6,
      "outputs": [
        {
          "output_type": "stream",
          "name": "stdout",
          "text": [
            "[]\n",
            "['a']\n",
            "['a', 123]\n",
            "['a', 123, ['a', 'b']]\n"
          ]
        }
      ]
    },
    {
      "cell_type": "code",
      "source": [
        "dic = dict()\n",
        "dic[\"name\"] = \"Daesik\"\n",
        "dic[\"town\"] = \"Yongin city\"\n",
        "dic[\"job\"] = \"assistant professor\"\n",
        "print(dic)"
      ],
      "metadata": {
        "colab": {
          "base_uri": "https://localhost:8080/"
        },
        "id": "sWQIfNKuawmh",
        "outputId": "df53511e-6f30-4f3d-985c-8f633738e46d"
      },
      "execution_count": 7,
      "outputs": [
        {
          "output_type": "stream",
          "name": "stdout",
          "text": [
            "{'name': 'Daesik', 'town': 'Yongin city', 'job': 'assistant professor'}\n"
          ]
        }
      ]
    },
    {
      "cell_type": "code",
      "source": [
        "class Student:\n",
        "  #생성자\n",
        "  def __init__(self, name):\n",
        "    self.name = name\n",
        "  #메써드\n",
        "  def study(self, hard=False):\n",
        "    if hard:\n",
        "      print(\"%s 학생은 열심히 공부합니다.\" %self.name)\n",
        "    else:\n",
        "      print(\"%s 학생은 공부합니다.\" %self.name)\n",
        "s = Student('Daesik')\n",
        "s.study()\n",
        "s.study(hard=True)"
      ],
      "metadata": {
        "colab": {
          "base_uri": "https://localhost:8080/"
        },
        "id": "oOLZRQ-xa9cA",
        "outputId": "9bbebced-2de0-4f58-ec1f-df43cc345742"
      },
      "execution_count": 8,
      "outputs": [
        {
          "output_type": "stream",
          "name": "stdout",
          "text": [
            "Daesik 학생은 공부합니다.\n",
            "Daesik 학생은 열심히 공부합니다.\n"
          ]
        }
      ]
    }
  ]
}